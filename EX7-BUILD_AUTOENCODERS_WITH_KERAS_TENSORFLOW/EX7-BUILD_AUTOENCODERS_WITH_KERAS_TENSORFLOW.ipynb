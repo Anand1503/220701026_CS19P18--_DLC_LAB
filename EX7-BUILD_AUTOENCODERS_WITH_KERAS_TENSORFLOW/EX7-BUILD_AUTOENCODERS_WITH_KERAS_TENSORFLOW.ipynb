{
 "cells": [
  {
   "cell_type": "code",
   "execution_count": 1,
   "id": "f1a3bacb-b1f3-4251-b7e5-97d5bccca06c",
   "metadata": {},
   "outputs": [],
   "source": [
    "# Step 1: Import dependencies\n",
    "import numpy as np\n",
    "import matplotlib.pyplot as plt\n",
    "import tensorflow as tf\n",
    "from tensorflow.keras.models import Model\n",
    "from tensorflow.keras.layers import Input, Dense\n",
    "from tensorflow.keras.datasets import mnist"
   ]
  },
  {
   "cell_type": "code",
   "execution_count": 2,
   "id": "8acc3baf-e481-4ebf-a5d8-a6f551110c97",
   "metadata": {},
   "outputs": [],
   "source": [
    "#Steo 2: Load Dataset\n",
    "(x_train, _), (x_test, _) = mnist.load_data()"
   ]
  },
  {
   "cell_type": "code",
   "execution_count": 3,
   "id": "934a7f60-8db5-45ac-8720-f4dd5d29279d",
   "metadata": {},
   "outputs": [
    {
     "name": "stdout",
     "output_type": "stream",
     "text": [
      "Training data shape: (60000, 784), Test data shape: (10000, 784)\n"
     ]
    }
   ],
   "source": [
    "#Step 3: Preprocess the Dataset\n",
    "x_train = x_train.astype(\"float32\") / 255.0\n",
    "x_test = x_test.astype(\"float32\") / 255.0\n",
    "\n",
    "# Flatten 28x28 images into vectors of size 784\n",
    "x_train = x_train.reshape((len(x_train), np.prod(x_train.shape[1:])))\n",
    "x_test = x_test.reshape((len(x_test), np.prod(x_test.shape[1:])))\n",
    "\n",
    "print(f\"Training data shape: {x_train.shape}, Test data shape: {x_test.shape}\")"
   ]
  },
  {
   "cell_type": "code",
   "execution_count": 4,
   "id": "0572cf24-6f88-4f77-8f4c-6e7f6127e8f5",
   "metadata": {},
   "outputs": [],
   "source": [
    "#Step 4: Build Autoencoder Model\n",
    "encoding_dim = 32  # Size of encoded representation (compressed feature size)\n",
    "\n",
    "# Input placeholder\n",
    "input_img = Input(shape=(784,))\n",
    "\n",
    "# Encoder network\n",
    "encoded = Dense(128, activation='relu')(input_img)\n",
    "encoded = Dense(64, activation='relu')(encoded)\n",
    "encoded = Dense(encoding_dim, activation='relu')(encoded)\n",
    "\n",
    "# Decoder network\n",
    "decoded = Dense(64, activation='relu')(encoded)\n",
    "decoded = Dense(128, activation='relu')(decoded)\n",
    "decoded = Dense(784, activation='sigmoid')(decoded)\n",
    "\n",
    "# Autoencoder model\n",
    "autoencoder = Model(input_img, decoded)\n",
    "\n",
    "# Encoder model (for extracting compressed features)\n",
    "encoder = Model(input_img, encoded)"
   ]
  },
  {
   "cell_type": "code",
   "execution_count": 5,
   "id": "9dcffda2-874e-4e0a-8aca-70000e25b0a2",
   "metadata": {},
   "outputs": [],
   "source": [
    "#Step 5: Compile the Model\n",
    "autoencoder.compile(optimizer='adam', loss='binary_crossentropy')"
   ]
  },
  {
   "cell_type": "code",
   "execution_count": 7,
   "id": "157d2fc8-b0ad-4470-892e-a03c23ff2528",
   "metadata": {},
   "outputs": [
    {
     "name": "stdout",
     "output_type": "stream",
     "text": [
      "Epoch 1/20\n",
      "235/235 [==============================] - 2s 6ms/step - loss: 0.2441 - val_loss: 0.1686\n",
      "Epoch 2/20\n",
      "235/235 [==============================] - 1s 5ms/step - loss: 0.1503 - val_loss: 0.1362\n",
      "Epoch 3/20\n",
      "235/235 [==============================] - 1s 5ms/step - loss: 0.1318 - val_loss: 0.1249\n",
      "Epoch 4/20\n",
      "235/235 [==============================] - 1s 5ms/step - loss: 0.1213 - val_loss: 0.1163\n",
      "Epoch 5/20\n",
      "235/235 [==============================] - 1s 5ms/step - loss: 0.1154 - val_loss: 0.1122\n",
      "Epoch 6/20\n",
      "235/235 [==============================] - 1s 5ms/step - loss: 0.1118 - val_loss: 0.1086\n",
      "Epoch 7/20\n",
      "235/235 [==============================] - 1s 5ms/step - loss: 0.1083 - val_loss: 0.1062\n",
      "Epoch 8/20\n",
      "235/235 [==============================] - 1s 5ms/step - loss: 0.1053 - val_loss: 0.1029\n",
      "Epoch 9/20\n",
      "235/235 [==============================] - 1s 5ms/step - loss: 0.1034 - val_loss: 0.1013\n",
      "Epoch 10/20\n",
      "235/235 [==============================] - 1s 5ms/step - loss: 0.1018 - val_loss: 0.0998\n",
      "Epoch 11/20\n",
      "235/235 [==============================] - 1s 6ms/step - loss: 0.1002 - val_loss: 0.0984\n",
      "Epoch 12/20\n",
      "235/235 [==============================] - 1s 6ms/step - loss: 0.0990 - val_loss: 0.0978\n",
      "Epoch 13/20\n",
      "235/235 [==============================] - 1s 6ms/step - loss: 0.0979 - val_loss: 0.0965\n",
      "Epoch 14/20\n",
      "235/235 [==============================] - 1s 5ms/step - loss: 0.0968 - val_loss: 0.0955\n",
      "Epoch 15/20\n",
      "235/235 [==============================] - 1s 6ms/step - loss: 0.0959 - val_loss: 0.0943\n",
      "Epoch 16/20\n",
      "235/235 [==============================] - 1s 6ms/step - loss: 0.0949 - val_loss: 0.0936\n",
      "Epoch 17/20\n",
      "235/235 [==============================] - 1s 6ms/step - loss: 0.0940 - val_loss: 0.0926\n",
      "Epoch 18/20\n",
      "235/235 [==============================] - 1s 6ms/step - loss: 0.0933 - val_loss: 0.0922\n",
      "Epoch 19/20\n",
      "235/235 [==============================] - 1s 5ms/step - loss: 0.0926 - val_loss: 0.0914\n",
      "Epoch 20/20\n",
      "235/235 [==============================] - 1s 5ms/step - loss: 0.0920 - val_loss: 0.0912\n"
     ]
    }
   ],
   "source": [
    "#Step 6: Train the Autoencoder\n",
    "history = autoencoder.fit(x_train, x_train,\n",
    "                          epochs=20,\n",
    "                          batch_size=256,\n",
    "                          shuffle=True,\n",
    "                          validation_data=(x_test, x_test))\n"
   ]
  },
  {
   "cell_type": "code",
   "execution_count": 8,
   "id": "f17fa743-365a-4d62-bfdb-04fd0fa1eafb",
   "metadata": {},
   "outputs": [
    {
     "name": "stdout",
     "output_type": "stream",
     "text": [
      "\n",
      "Test Reconstruction Loss: 0.0912\n"
     ]
    }
   ],
   "source": [
    "#Step 7: Evaluate the Model\n",
    "loss = autoencoder.evaluate(x_test, x_test, verbose=0)\n",
    "print(f\"\\nTest Reconstruction Loss: {loss:.4f}\")\n"
   ]
  },
  {
   "cell_type": "code",
   "execution_count": 9,
   "id": "d27913ac-f0a4-4c6f-a2d5-d46fa0039508",
   "metadata": {},
   "outputs": [
    {
     "name": "stdout",
     "output_type": "stream",
     "text": [
      "313/313 [==============================] - 0s 1ms/step\n"
     ]
    }
   ],
   "source": [
    "#Step 8: Predict (Reconstruct Images)\n",
    "decoded_imgs = autoencoder.predict(x_test)"
   ]
  },
  {
   "cell_type": "code",
   "execution_count": 10,
   "id": "3bf7fd58-5970-49b0-a675-fcfde5ac4388",
   "metadata": {},
   "outputs": [
    {
     "data": {
      "image/png": "[encoded data removed]",
      "text/plain": [
       "<Figure size 2000x400 with 20 Axes>"
      ]
     },
     "metadata": {},
     "output_type": "display_data"
    }
   ],
   "source": [
    "#Step 9: Visualize the Results\n",
    "n = 10  # Number of digits to display\n",
    "plt.figure(figsize=(20, 4))\n",
    "for i in range(n):\n",
    "    # Display original\n",
    "    ax = plt.subplot(2, n, i + 1)\n",
    "    plt.imshow(x_test[i].reshape(28, 28), cmap=\"gray\")\n",
    "    plt.title(\"Original\")\n",
    "    plt.axis(\"off\")\n",
    "\n",
    "    # Display reconstruction\n",
    "    ax = plt.subplot(2, n, i + 1 + n)\n",
    "    plt.imshow(decoded_imgs[i].reshape(28, 28), cmap=\"gray\")\n",
    "    plt.title(\"Reconstructed\")\n",
    "    plt.axis(\"off\")\n",
    "plt.show()"
   ]
  }
 ],
 "metadata": {
  "kernelspec": {
   "display_name": "Python [conda env:.conda-dlc]",
   "language": "python",
   "name": "conda-env-.conda-dlc-py"
  },
  "language_info": {
   "codemirror_mode": {
    "name": "ipython",
    "version": 3
   },
   "file_extension": ".py",
   "mimetype": "text/x-python",
   "name": "python",
   "nbconvert_exporter": "python",
   "pygments_lexer": "ipython3",
   "version": "3.7.16"
  }
 },
 "nbformat": 4,
 "nbformat_minor": 5
}
